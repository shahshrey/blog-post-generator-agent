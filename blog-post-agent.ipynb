{
 "cells": [
  {
   "cell_type": "code",
   "execution_count": null,
   "metadata": {},
   "outputs": [],
   "source": [
    "\n",
    "from langchain_core.messages import HumanMessage\n",
    "from uuid import uuid4\n",
    "from state.state import AgentState\n",
    "from schema.schema import BlogPost\n",
    "from graph.graph import get_blog_post_generator_graph\n",
    "\n",
    "graph = get_blog_post_generator_graph()\n",
    "\n",
    "default = AgentState(\n",
    "    messages = [\n",
    "        HumanMessage(content=\"Generate a blog post about the latest trends in AI\")\n",
    "    ],\n",
    "    blog_post = BlogPost(\n",
    "        title=\"\",\n",
    "        content=\"\",\n",
    "        search_results=[]\n",
    "    )\n",
    ")\n",
    "result = None\n",
    "thread_id = uuid4()\n",
    "\n",
    "while True:\n",
    "    result = await graph.ainvoke(\n",
    "        input=result if result else default,\n",
    "        config={\n",
    "            \"configurable\": {\n",
    "                \"thread_id\":str(thread_id)\n",
    "                }\n",
    "            }\n",
    "        )\n",
    "    print(result['messages'][-1])\n",
    "    next = input(\"message\")\n",
    "    result['messages'].append(HumanMessage(content=next))\n",
    "    "
   ]
  }
 ],
 "metadata": {
  "kernelspec": {
   "display_name": ".venv",
   "language": "python",
   "name": "python3"
  },
  "language_info": {
   "codemirror_mode": {
    "name": "ipython",
    "version": 3
   },
   "file_extension": ".py",
   "mimetype": "text/x-python",
   "name": "python",
   "nbconvert_exporter": "python",
   "pygments_lexer": "ipython3",
   "version": "3.12.2"
  }
 },
 "nbformat": 4,
 "nbformat_minor": 2
}
